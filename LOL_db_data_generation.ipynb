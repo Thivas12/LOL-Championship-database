{
 "cells": [
  {
   "cell_type": "markdown",
   "id": "6c39adb3-6334-4477-84a5-ba5eabcb0e17",
   "metadata": {},
   "source": [
    "# **Data Generation for the League of Legends Championship DB**"
   ]
  },
  {
   "cell_type": "markdown",
   "id": "b91be081-8fe2-4669-8014-df276683f572",
   "metadata": {},
   "source": [
    "### **Importing necessary libraries**"
   ]
  },
  {
   "cell_type": "code",
   "execution_count": 67,
   "id": "1a988df0-6d44-4ba0-9bf5-aa90f80873f8",
   "metadata": {},
   "outputs": [],
   "source": [
    "import sqlite3\n",
    "from faker import Faker\n",
    "import random\n",
    "import string\n",
    "from datetime import datetime, timedelta, date\n",
    "import requests"
   ]
  },
  {
   "cell_type": "code",
   "execution_count": 2,
   "id": "097be3cb-1299-4a5b-9e3d-12308dba3ac9",
   "metadata": {},
   "outputs": [],
   "source": [
    "fake = Faker()"
   ]
  },
  {
   "cell_type": "code",
   "execution_count": 73,
   "id": "a81ab6f0-aeb9-482c-9bd0-dc0688cfb53b",
   "metadata": {},
   "outputs": [],
   "source": [
    "conn = sqlite3.connect('LOLchamp.db')\n",
    "cursor = conn.cursor()"
   ]
  },
  {
   "cell_type": "markdown",
   "id": "2fe7534e-4789-4bec-ba78-3e7d6461ea54",
   "metadata": {},
   "source": [
    "### **Generating data for the 'Teams' table**"
   ]
  },
  {
   "cell_type": "code",
   "execution_count": 41,
   "id": "74cae7c2-2b7a-4b3a-98b4-b32083e68fee",
   "metadata": {},
   "outputs": [],
   "source": [
    "def generate_random_word(length):\n",
    "    vowels = 'aeiou'\n",
    "    consonants = ''.join(set(string.ascii_lowercase) - set(vowels))\n",
    "    word = ''\n",
    "    for i in range(length):\n",
    "        if i % 2 == 0:\n",
    "            word += random.choice(consonants)\n",
    "        else:\n",
    "            word += random.choice(vowels)\n",
    "    return word.capitalize()\n",
    "\n",
    "def generate_random_team_name():\n",
    "    structures = [\n",
    "        lambda: f\"{generate_random_word(random.randint(5, 8))} {generate_random_word(random.randint(5, 8))}\",\n",
    "        lambda: f\"{generate_random_word(random.randint(5, 8))} {random.choice(['United', 'FC', 'Gaming', 'Esports'])}\",\n",
    "        lambda: f\"Team {generate_random_word(random.randint(5, 8))}\",\n",
    "        lambda: f\"{generate_random_word(random.randint(3, 5))}{generate_random_word(random.randint(3, 5))}\",\n",
    "    ]\n",
    "    return random.choice(structures)()\n",
    "\n",
    "teams = set()\n",
    "while len(teams) < 500:\n",
    "    teams.add(generate_random_team_name())\n",
    "\n",
    "teams_list = list(teams)\n",
    "regions = ['NA', 'EU', 'KR', 'CN', 'SEA', 'WS']\n",
    "\n",
    "for i, team_name in enumerate(teams_list):\n",
    "    team_id = i + 1\n",
    "    region = random.choice(regions)\n",
    "    formation_year = random.randint(2010, 2022)\n",
    "    total_championships = random.randint(0, 5)\n",
    "\n",
    "    cursor.execute('''\n",
    "    INSERT INTO Teams (TeamID, TeamName, Region, FormationYear, TotalChampionships)\n",
    "    VALUES (?, ?, ?, ?, ?)\n",
    "    ''', (team_id, team_name, region, formation_year, total_championships))\n",
    "\n",
    "\n",
    "conn.commit()\n",
    "conn.close()"
   ]
  },
  {
   "cell_type": "markdown",
   "id": "f66d3cbc-19f9-4276-bb6c-6d55cb22508b",
   "metadata": {},
   "source": [
    "### **Generating data for the 'ChampionStats' table**"
   ]
  },
  {
   "cell_type": "code",
   "execution_count": 46,
   "id": "8578b0aa-4fdd-479b-b0a0-089441f89773",
   "metadata": {},
   "outputs": [],
   "source": [
    "def champ_names():\n",
    "    versions_url = 'https://ddragon.leagueoflegends.com/api/versions.json'\n",
    "    versions = requests.get(versions_url).json()\n",
    "    latest_version = versions[0]\n",
    "    champions_url = f'https://ddragon.leagueoflegends.com/cdn/{latest_version}/data/en_US/champion.json'\n",
    "    champions_data = requests.get(champions_url).json()\n",
    "    champions_names = list(champions_data['data'].keys())\n",
    "    return champions_names\n",
    "\n",
    "all_champions = champ_names()\n",
    "\n",
    "for i, name in enumerate(all_champions):\n",
    "    total_picks = random.randint(0, 1000)\n",
    "    total_bans = random.randint(0, 500)\n",
    "    win_rate = round(random.uniform(0.4, 0.6), 2)\n",
    "    cursor.execute(\n",
    "    '''\n",
    "    INSERT INTO ChampionStats\n",
    "    (\n",
    "    ChampionID,\n",
    "    ChampionName,\n",
    "    TotalPicks,\n",
    "    TotalBans,\n",
    "    Winrate\n",
    "    )\n",
    "    VALUES (?, ?, ?, ?, ?)\n",
    "    ''', (i + 1, name, total_picks, total_bans, win_rate))\n",
    "\n",
    "conn.commit()\n",
    "conn.close()"
   ]
  },
  {
   "cell_type": "markdown",
   "id": "aa2b9484-bfff-4ad4-ae35-2eec56cbe9da",
   "metadata": {},
   "source": [
    "### **Generating data for the 'Players' table**"
   ]
  },
  {
   "cell_type": "code",
   "execution_count": 48,
   "id": "b36cb383-35b1-4e1c-b959-fc733007a063",
   "metadata": {},
   "outputs": [],
   "source": [
    "cursor.execute(\"SELECT TeamID FROM Teams\")\n",
    "team_ids = [row[0] for row in cursor.fetchall()]\n",
    "roles = ['Top', 'Jungle', 'Mid', 'ADC', 'Support']\n",
    "players_data = []\n",
    "for i in range(2500):  \n",
    "    player_id = i + 1\n",
    "    team_id = random.choice(team_ids)\n",
    "    nickname = fake.user_name()\n",
    "    real_name = fake.name()\n",
    "    role = roles[i % 5]  \n",
    "    nationality = fake.country()\n",
    "    join_date = fake.date_between(start_date='-5y', end_date='today')\n",
    "    players_data.append((player_id, team_id, nickname, real_name, role, nationality, join_date))\n",
    "\n",
    "cursor.executemany('''\n",
    "INSERT INTO Players (PlayerID, TeamID, Nickname, RealName, Role, Nationality, JoinDate)\n",
    "VALUES (?, ?, ?, ?, ?, ?, ?)\n",
    "''', players_data)\n",
    "\n",
    "conn.commit()\n",
    "conn.close()"
   ]
  },
  {
   "cell_type": "markdown",
   "id": "255637e4-a32b-4948-9c2e-a0a921f9a820",
   "metadata": {},
   "source": [
    "### **Generating data for the 'Tournaments' table**"
   ]
  },
  {
   "cell_type": "code",
   "execution_count": 58,
   "id": "0e916a86-bc54-452b-babe-4d546fc79448",
   "metadata": {},
   "outputs": [],
   "source": [
    "tournament_names = [\n",
    "    \"World Championship\", \"Mid-Season Invitational\", \"LCK Spring Split\", \"LCK Summer Split\",\n",
    "    \"LPL Spring Split\", \"LPL Summer Split\", \"LEC Spring Split\", \"LEC Summer Split\",\n",
    "    \"LCS Spring Split\", \"LCS Summer Split\", \"All-Star Event\", \"Rift Rivals\"\n",
    "]\n",
    "\n",
    "tournaments_data = []\n",
    "for i in range(50):  \n",
    "    tournament_id = i + 1\n",
    "    tournament_name = f\"{random.choice(tournament_names)} {random.randint(2020, 2025)}\"\n",
    "    start_date = fake.date_between(start_date='-5y', end_date='today')\n",
    "    end_date = start_date + timedelta(days=random.randint(7, 30))  \n",
    "    base_amount = random.randint(50000, 2000000)  \n",
    "    if base_amount < 1000000:\n",
    "        prize_pool = round(base_amount / 1000) * 1000  \n",
    "    else:\n",
    "        prize_pool = round(base_amount / 1000000) * 1000000  \n",
    "        \n",
    "    tournaments_data.append((tournament_id, tournament_name, start_date, end_date, prize_pool))\n",
    "\n",
    "cursor.executemany('''\n",
    "INSERT INTO Tournaments (TournamentID, TournamentName, StartDate, EndDate, PrizePools)\n",
    "VALUES (?, ?, ?, ?, ?)\n",
    "''', tournaments_data)\n",
    "\n",
    "conn.commit()\n",
    "conn.close()"
   ]
  },
  {
   "cell_type": "markdown",
   "id": "3922d3aa-da1c-4461-a0b6-abb0a9111606",
   "metadata": {},
   "source": [
    "## **Generating data for the 'Matches' table**"
   ]
  },
  {
   "cell_type": "code",
   "execution_count": 68,
   "id": "2b75788f-0985-4a2f-8e14-f7735901d8d5",
   "metadata": {},
   "outputs": [],
   "source": [
    "cursor.execute(\"SELECT TournamentID FROM Tournaments\")\n",
    "tournament_ids = [row[0] for row in cursor.fetchall()]\n",
    "cursor.execute(\"SELECT TeamName FROM Teams\")\n",
    "team_names = [row[0] for row in cursor.fetchall()]\n",
    "matches_data = []\n",
    "for i in range(1000):  \n",
    "    match_id = i + 1\n",
    "    tournament_id = random.choice(tournament_ids)\n",
    "    team_a, team_b = random.sample(team_names, 2)\n",
    "    end_date = date(2025, 3, 10)\n",
    "    match_date = fake.date_between(start_date='-1y', end_date=end_date)\n",
    "    winning_team = random.choice([team_a, team_b])\n",
    "    match_duration = random.randint(1200, 3600)\n",
    "    total_kills = random.randint(10, 50)\n",
    "    matches_data.append((match_id, tournament_id, team_a, team_b, match_date, winning_team, match_duration, total_kills))\n",
    "    \n",
    "cursor.executemany('''\n",
    "INSERT INTO Matches (MatchID, TournamentID, TeamA, TeamB, MatchDate, WinningTeam, MatchDuration, TotalKills)\n",
    "VALUES (?, ?, ?, ?, ?, ?, ?, ?)\n",
    "''', matches_data)\n",
    "\n",
    "conn.commit()\n",
    "conn.close()"
   ]
  },
  {
   "cell_type": "markdown",
   "id": "21d2ea24-2dff-482a-aaa6-cb9c8e937ebf",
   "metadata": {},
   "source": [
    "### **Generating data for the 'ObjectiveControl' table**"
   ]
  },
  {
   "cell_type": "code",
   "execution_count": 74,
   "id": "9cf77048-40a1-4151-87d6-0966fed4a441",
   "metadata": {},
   "outputs": [],
   "source": [
    "cursor.execute(\"SELECT MatchID, TeamA, TeamB FROM Matches\")\n",
    "matches = cursor.fetchall()\n",
    "cursor.execute(\"SELECT TeamName FROM Teams\")\n",
    "team_names = [row[0] for row in cursor.fetchall()]\n",
    "objective_data = []\n",
    "for match in matches:\n",
    "    match_id, team_a_name, team_b_name = match\n",
    "    first_blood_team = random.choice([team_a_name, team_b_name]) \n",
    "    first_baron_team = random.choice([team_a_name, team_b_name]) \n",
    "    dragon_kills_a = random.randint(0, 5)\n",
    "    dragon_kills_b = random.randint(0, 5)\n",
    "    baron_kills_a = random.randint(0, 3)\n",
    "    baron_kills_b = random.randint(0, 3)\n",
    "\n",
    "    objective_data.append((\n",
    "        match_id,\n",
    "        team_a_name,\n",
    "        'Yes' if first_blood_team == team_a_name else 'No',  \n",
    "        'Yes' if first_baron_team == team_a_name else 'No',  \n",
    "        dragon_kills_a,\n",
    "        baron_kills_a\n",
    "    ))\n",
    "\n",
    "    objective_data.append((\n",
    "        match_id,\n",
    "        team_b_name,\n",
    "        'Yes' if first_blood_team == team_b_name else 'No', \n",
    "        'Yes' if first_baron_team == team_b_name else 'No', \n",
    "        dragon_kills_b,\n",
    "        baron_kills_b\n",
    "    ))\n",
    "\n",
    "duplicates_count = int(len(objective_data) * 0.05)\n",
    "objective_data.extend(random.choices(objective_data, k=duplicates_count))\n",
    "random.shuffle(objective_data)\n",
    "for row in objective_data:\n",
    "    try:\n",
    "        cursor.execute('''\n",
    "        INSERT INTO ObjectiveControl (MatchID, TeamName, FirstBlood, FirstBaron, DragonKills, BaronKills)\n",
    "        VALUES (?, ?, ?, ?, ?, ?)\n",
    "        ''', row)\n",
    "    except sqlite3.IntegrityError:\n",
    "        pass  \n",
    "        \n",
    "conn.commit()\n",
    "conn.close()"
   ]
  },
  {
   "cell_type": "code",
   "execution_count": null,
   "id": "0950db35-56e1-48ac-b4a8-bc9e199678e4",
   "metadata": {},
   "outputs": [],
   "source": []
  }
 ],
 "metadata": {
  "kernelspec": {
   "display_name": "Python 3 (ipykernel)",
   "language": "python",
   "name": "python3"
  },
  "language_info": {
   "codemirror_mode": {
    "name": "ipython",
    "version": 3
   },
   "file_extension": ".py",
   "mimetype": "text/x-python",
   "name": "python",
   "nbconvert_exporter": "python",
   "pygments_lexer": "ipython3",
   "version": "3.12.4"
  }
 },
 "nbformat": 4,
 "nbformat_minor": 5
}
